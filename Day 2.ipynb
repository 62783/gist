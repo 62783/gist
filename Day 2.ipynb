{
 "cells": [
  {
   "cell_type": "markdown",
   "metadata": {},
   "source": [
    "# Tittle\n",
    "## Subtittle\n",
    "### Headings\n",
    "#### Subheadings"
   ]
  },
  {
   "cell_type": "markdown",
   "metadata": {},
   "source": [
    "- outdoor games\n",
    " 1.circket\n",
    " 2.foot ball\n",
    " 3.tennis\n",
    " 4.hockey\n",
    "- Indoor games\n",
    " 1.chess\n",
    " 2.carroms\n",
    " 3.ludo\n",
    " 4.snake & ladder"
   ]
  },
  {
   "cell_type": "markdown",
   "metadata": {},
   "source": [
    "***\n",
    " 1.git\n",
    " 2.python\n",
    " 3.numpy\n",
    " 4.pandas\n"
   ]
  },
  {
   "cell_type": "markdown",
   "metadata": {},
   "source": [
    "***\n",
    "1.git\n",
    "2.python\n",
    "3.numpy\n",
    "4.pandaS\n",
    "5.matplot lib\n",
    "6.seabron\n",
    "***"
   ]
  },
  {
   "cell_type": "markdown",
   "metadata": {},
   "source": [
    "- ![image](https://i.pinimg.com/originals/4d/c8/db/4dc8db17e667964c80a8095bd0ac5a68.jpg)"
   ]
  },
  {
   "cell_type": "markdown",
   "metadata": {},
   "source": [
    "- ![image][https://i.pinimg.com/originals/4d/c8/db/4dc8db17e667964c80a8095bd0ac5a68.jpg]"
   ]
  },
  {
   "cell_type": "markdown",
   "metadata": {},
   "source": [
    "#### how to highlated particular lines\n",
    "```python\n",
    "a=int(input('enter number'))\n",
    "if a%2==0;\n",
    "print(a,'is even number')\n",
    "else:\n",
    "print(a,'is odd number')\n",
    "```\n"
   ]
  },
  {
   "cell_type": "markdown",
   "metadata": {},
   "source": [
    "- ![image](https://image.shutterstock.com/image-photo/image-sweet-baby-girl-wreath-260nw-463272494.jpg)"
   ]
  },
  {
   "cell_type": "markdown",
   "metadata": {},
   "source": [
    "#### text is normal text\n",
    "- this is normal text\n",
    "- *this is a italic text*\n",
    "- **this is a bold text**\n",
    "- this is a *italic* and **bold** "
   ]
  },
  {
   "cell_type": "markdown",
   "metadata": {},
   "source": [
    "#### how to add hyper links using markdown\n",
    "- [GOOGLE](https://www.google.com)\n",
    "- [FACEBOOK](https://www.facebook.com)\n",
    "- [APSSDC](https://www.apssdc.in/ )"
   ]
  },
  {
   "cell_type": "code",
   "execution_count": null,
   "metadata": {},
   "outputs": [],
   "source": []
  }
 ],
 "metadata": {
  "kernelspec": {
   "display_name": "Python 3",
   "language": "python",
   "name": "python3"
  },
  "language_info": {
   "codemirror_mode": {
    "name": "ipython",
    "version": 3
   },
   "file_extension": ".py",
   "mimetype": "text/x-python",
   "name": "python",
   "nbconvert_exporter": "python",
   "pygments_lexer": "ipython3",
   "version": "3.8.5"
  }
 },
 "nbformat": 4,
 "nbformat_minor": 4
}
